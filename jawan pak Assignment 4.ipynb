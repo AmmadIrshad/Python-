{
 "cells": [
  {
   "cell_type": "code",
   "execution_count": 1,
   "id": "9c22abd3",
   "metadata": {},
   "outputs": [
    {
     "name": "stdout",
     "output_type": "stream",
     "text": [
      "Twinkle,twinkle,little star,\n",
      "\tHow I wonder what you are!\n",
      "\t\tUp above the world so high,\n",
      "\t\tLike a diamond in the sky.\n",
      "Twinkle,twinkle,little star,\n",
      "\tHow I wonder what you are\n"
     ]
    }
   ],
   "source": [
    "#write a python code in the follwing string in a specific format.\n",
    "print('Twinkle,twinkle,little star,\\n\\tHow I wonder what you are!\\n\\t\\tUp above the world so high,\\n\\t\\tLike a diamond in the sky.\\nTwinkle,twinkle,little star,\\n\\tHow I wonder what you are')"
   ]
  },
  {
   "cell_type": "code",
   "execution_count": 2,
   "id": "9b17ad24",
   "metadata": {},
   "outputs": [
    {
     "name": "stdout",
     "output_type": "stream",
     "text": [
      "Python version is:\n",
      "3.8.8 (default, Apr 13 2021, 15:08:03) [MSC v.1916 64 bit (AMD64)]\n",
      "\n",
      "the version is\n",
      "sys.version_info(major=3, minor=8, micro=8, releaselevel='final', serial=0)\n"
     ]
    }
   ],
   "source": [
    "#write a python code to find the version of python.\n",
    "import sys\n",
    "print ('Python version is:')\n",
    "print(sys.version)\n",
    "print('\\nthe version is')\n",
    "print(sys.version_info)"
   ]
  },
  {
   "cell_type": "code",
   "execution_count": 3,
   "id": "e0b2b12f",
   "metadata": {},
   "outputs": [
    {
     "name": "stdout",
     "output_type": "stream",
     "text": [
      "date and time :  2021-10-23 04:50:05.169190\n"
     ]
    }
   ],
   "source": [
    "#write a python code to display current Date and Time.\n",
    "from datetime import datetime\n",
    "now = datetime.now()\n",
    "print('date and time : ',now)"
   ]
  },
  {
   "cell_type": "code",
   "execution_count": 4,
   "id": "5d4836d6",
   "metadata": {},
   "outputs": [
    {
     "name": "stdout",
     "output_type": "stream",
     "text": [
      "Enter a radius:6\n",
      "The area of a circle is 113.112\n"
     ]
    }
   ],
   "source": [
    "# Write a python code to find the area of a circle.\n",
    "r=int(input(\"Enter a radius:\"))\n",
    "p=3.142\n",
    "a=p*r**2\n",
    "print(\"The area of a circle is\",a)"
   ]
  },
  {
   "cell_type": "code",
   "execution_count": 8,
   "id": "e4b8d645",
   "metadata": {},
   "outputs": [
    {
     "name": "stdout",
     "output_type": "stream",
     "text": [
      "Enter first name :Ammad \n",
      "Enter second name:Irshad\n",
      " dammA dahsrI\n"
     ]
    }
   ],
   "source": [
    "#write a python code to revese your first and last name.\n",
    "a =str(input('Enter first name :'))\n",
    "b = str(input('Enter second name:'))\n",
    "c = a[::-1]\n",
    "d = b[::-1]\n",
    "print (c,d)"
   ]
  },
  {
   "cell_type": "code",
   "execution_count": 9,
   "id": "c21b64ce",
   "metadata": {},
   "outputs": [
    {
     "name": "stdout",
     "output_type": "stream",
     "text": [
      "Enter a number:1\n",
      "Enter a number:2\n",
      "3\n"
     ]
    }
   ],
   "source": [
    "#write a python code to add two inputs.\n",
    "a=int(input(\"Enter a number:\"))\n",
    "b=int(input(\"Enter a number:\"))\n",
    "c = a+b\n",
    "print(c)"
   ]
  },
  {
   "cell_type": "code",
   "execution_count": 1,
   "id": "d77624f6",
   "metadata": {},
   "outputs": [
    {
     "name": "stdout",
     "output_type": "stream",
     "text": [
      "Enter  Maths marks :50\n",
      "Enter Bio Marks :50\n",
      "Enter Comp Marks :50\n",
      "Enter Urdu Marks :80\n",
      "Enter Isl Marks :99\n",
      "Your Grade is B\n"
     ]
    }
   ],
   "source": [
    "#write a python code to find your grade.\n",
    "Math = int(input('Enter  Maths marks :'))\n",
    "Bio = int(input('Enter Bio Marks :'))\n",
    "Comp = int(input('Enter Comp Marks :'))\n",
    "Urdu = int(input('Enter Urdu Marks :'))\n",
    "Isl = int(input('Enter Isl Marks :'))\n",
    "TotalMarksofSubjects = Math+Bio+Comp+Urdu+Isl\n",
    "TotalMarks = 500\n",
    "percentage = (TotalMarksofSubjects/TotalMarks)*100\n",
    "if percentage > 80 and percentage <= 100 :\n",
    "    print(\"Congragulations Your Grade is A+\")\n",
    "elif percentage > 70 and percentage <= 80:\n",
    "    print(\"Your Grade is A\")\n",
    "elif percentage > 60 and percentage <= 70:\n",
    "    print(\"Your Grade is B\")\n",
    "elif percentage > 50 and percentage <= 60:  \n",
    "    print(\"Your Grade is C\")\n",
    "elif percentage > 40 and percentage <= 50:\n",
    "    print(\"Your Grade is D\")\n",
    "elif percentage > 33 and percentage <= 40:\n",
    "    print(\"Your Grade is E\")\n",
    "elif percentage < 33:\n",
    "    print(\"You Are Fail\")\n",
    "elif percentage > 100 or t <= 0:\n",
    "    print(\"Invalid result\")\n",
    "    "
   ]
  },
  {
   "cell_type": "code",
   "execution_count": 19,
   "id": "6bd876df",
   "metadata": {},
   "outputs": [
    {
     "name": "stdout",
     "output_type": "stream",
     "text": [
      "Enter no :8\n",
      "8 is Even number\n"
     ]
    }
   ],
   "source": [
    "#write a python code to check a number is Even or Odd.\n",
    "No = int(input('Enter no :'))\n",
    "R = No%2\n",
    "if (Reminder == 0):\n",
    "    print (No,\"is Even number\")\n",
    "else:\n",
    "    print(No,'is Odd number')"
   ]
  },
  {
   "cell_type": "code",
   "execution_count": 18,
   "id": "5aa8143b",
   "metadata": {},
   "outputs": [
    {
     "name": "stdout",
     "output_type": "stream",
     "text": [
      "11\n"
     ]
    }
   ],
   "source": [
    "#write a python code to search lenght of user list.\n",
    "list = [1, 1, 2, 3, 5, 8, 13, 21, 34, 55, 89]\n",
    "a = len(list)\n",
    "print(a)"
   ]
  },
  {
   "cell_type": "code",
   "execution_count": 17,
   "id": "f40c3d5f",
   "metadata": {},
   "outputs": [
    {
     "name": "stdout",
     "output_type": "stream",
     "text": [
      "Sum of list is : 232\n"
     ]
    }
   ],
   "source": [
    "#write a python code to find sum of all elements in user list.\n",
    "list = [1, 1, 2, 3, 5, 8, 13, 21, 34, 55, 89]\n",
    "Sum = 0\n",
    "for i in range(len(list)) :\n",
    "    Sum += list[i]  \n",
    "print('Sum of list is :',Sum)"
   ]
  },
  {
   "cell_type": "code",
   "execution_count": 16,
   "id": "f777ebc7",
   "metadata": {},
   "outputs": [
    {
     "name": "stdout",
     "output_type": "stream",
     "text": [
      "89\n"
     ]
    }
   ],
   "source": [
    "#write a python code to find max number of element in user list.\n",
    "list = [1, 1, 2, 3, 5, 8, 13, 21, 34, 55, 89]\n",
    "print(max(list))"
   ]
  },
  {
   "cell_type": "code",
   "execution_count": 15,
   "id": "b75d939d",
   "metadata": {},
   "outputs": [
    {
     "name": "stdout",
     "output_type": "stream",
     "text": [
      "1\n",
      "1\n",
      "2\n",
      "3\n"
     ]
    }
   ],
   "source": [
    "#write a python code to find all less than 5 numbers of elements in list.\n",
    "mylist = [1, 1, 2, 3, 5, 8, 13, 21, 34, 55, 89]\n",
    "for i in mylist:\n",
    "    if i < 5:\n",
    "        print(i)"
   ]
  },
  {
   "cell_type": "code",
   "execution_count": null,
   "id": "6c1031f0",
   "metadata": {},
   "outputs": [],
   "source": [
    "\n"
   ]
  },
  {
   "cell_type": "code",
   "execution_count": null,
   "id": "7c7fe73f",
   "metadata": {},
   "outputs": [],
   "source": []
  }
 ],
 "metadata": {
  "kernelspec": {
   "display_name": "Python 3",
   "language": "python",
   "name": "python3"
  },
  "language_info": {
   "codemirror_mode": {
    "name": "ipython",
    "version": 3
   },
   "file_extension": ".py",
   "mimetype": "text/x-python",
   "name": "python",
   "nbconvert_exporter": "python",
   "pygments_lexer": "ipython3",
   "version": "3.8.8"
  }
 },
 "nbformat": 4,
 "nbformat_minor": 5
}
